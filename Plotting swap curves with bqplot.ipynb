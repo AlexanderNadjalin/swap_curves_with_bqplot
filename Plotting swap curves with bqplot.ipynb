{
 "cells": [
  {
   "cell_type": "markdown",
   "metadata": {},
   "source": [
    "# Testing plotting swap curves with bqplot\n",
    "*Author: Alexander Nadjalin*\n",
    "\n",
    "*Date:   2020-01-31*\n",
    "\n",
    "Simple example of interactive plotting using Bloombergs bqplot module for swap curves at two different dates."
   ]
  },
  {
   "cell_type": "markdown",
   "metadata": {},
   "source": [
    "### Modules and file imports"
   ]
  },
  {
   "cell_type": "code",
   "execution_count": 156,
   "metadata": {},
   "outputs": [],
   "source": [
    "import pandas as pd\n",
    "from pathlib import Path\n",
    "from bqplot import *\n",
    "from IPython.display import display, clear_output\n",
    "import ipywidgets as widgets\n",
    "\n",
    "def read_time_series(name: str) -> pd.DataFrame:\n",
    "    \"\"\"\n",
    "\n",
    "    Read .csv file by name from directory \"/eikon_time_series_files\".\n",
    "    :param name: File name (including suffix).\n",
    "    :return: Pandas DataFrame.\n",
    "    \"\"\"\n",
    "    import_dir = Path.cwd().joinpath('eikon_time_series_files')\n",
    "\n",
    "    path = Path.joinpath(import_dir, Path(name))\n",
    "    if path.exists():\n",
    "        return pd.read_csv(path, sep=',', index_col=0, parse_dates=False)\n",
    "    else:\n",
    "        print('File type \"' + name + '.csv' + ' does not exist. Aborted.')\n",
    "        quit()"
   ]
  },
  {
   "cell_type": "markdown",
   "metadata": {},
   "source": [
    "### File definition and import"
   ]
  },
  {
   "cell_type": "code",
   "execution_count": 157,
   "metadata": {},
   "outputs": [],
   "source": [
    "# File name to save time series as (including \".csv\" ending)\n",
    "name_time_series = 'Swaps_time_series.csv'\n",
    "\n",
    "# Read time series:\n",
    "df_ts = read_time_series(name_time_series)"
   ]
  },
  {
   "cell_type": "markdown",
   "metadata": {},
   "source": [
    "### Plot of swap curves for two dates including differences"
   ]
  },
  {
   "cell_type": "code",
   "execution_count": 158,
   "metadata": {},
   "outputs": [],
   "source": [
    "def plot(end_date: str, start_date: str) -> None:\n",
    "    \"\"\"\n",
    "    \n",
    "    Plot two lines, one for each selected dates.\n",
    "    Plot a bar plot representing the difference between end_date values and start_date values.\n",
    "    :param end_date: Later date.\n",
    "    :param start_date: Earlier date.\n",
    "    :return: None.\n",
    "    \"\"\"\n",
    "    x_data = df_ts.columns.values.tolist()\n",
    "\n",
    "    df_diff = df_ts.loc[end_date, :] - df_ts.loc[start_date, :]\n",
    "    y_end = df_ts.loc[end_date, :].values.flatten()\n",
    "    y_start = df_ts.loc[start_date, :].values.flatten()\n",
    "    \n",
    "    x_sc = OrdinalScale()\n",
    "    y_sc = LinearScale()\n",
    "    ax_x = Axis(label='RIC', scale=x_sc, grid_lines='solid', tick_rotate=90, tick_style={'font-size': 7}, label_offset='40',\n",
    "               offset={'scale':x_sc, 'value':10})\n",
    "    ax_y = Axis(label='%', scale=y_sc, orientation='vertical',tick_format='0.2f', tick_style={'font-size': 9}, label_offset='-40')\n",
    "\n",
    "    line = Lines(x=x_data, y=[y_end, y_start], scales={'x': x_sc, 'y': y_sc}, \n",
    "                 display_legend=True, labels=[end_date, start_date], stroke_width=1)\n",
    "    bar = Bars(x=x_data, y=df_diff.tolist(), scales={'x': x_sc, 'y': y_sc}, padding=0.5)\n",
    "\n",
    "    fig = Figure(marks=[line, bar], axes=[ax_x, ax_y], title='Swap rates and differences', legend_location='top-left')\n",
    "    display(fig)"
   ]
  },
  {
   "cell_type": "markdown",
   "metadata": {},
   "source": [
    "### Widget definition and handlers"
   ]
  },
  {
   "cell_type": "code",
   "execution_count": 160,
   "metadata": {},
   "outputs": [
    {
     "data": {
      "application/vnd.jupyter.widget-view+json": {
       "model_id": "1b14c06ca1f8454b9f1016388c68890f",
       "version_major": 2,
       "version_minor": 0
      },
      "text/plain": [
       "Dropdown(description='End date:', index=271, options=('2019-01-10', '2019-01-11', '2019-01-14', '2019-01-15', …"
      ]
     },
     "metadata": {},
     "output_type": "display_data"
    },
    {
     "data": {
      "application/vnd.jupyter.widget-view+json": {
       "model_id": "f6815a545bb544b795dff0c16a22d4d8",
       "version_major": 2,
       "version_minor": 0
      },
      "text/plain": [
       "Dropdown(description='Start date:', options=('2019-01-10', '2019-01-11', '2019-01-14', '2019-01-15', '2019-01-…"
      ]
     },
     "metadata": {},
     "output_type": "display_data"
    },
    {
     "data": {
      "application/vnd.jupyter.widget-view+json": {
       "model_id": "cd51519ad7f34ee4ace29bdf1175bf3c",
       "version_major": 2,
       "version_minor": 0
      },
      "text/plain": [
       "Figure(axes=[Axis(label='RIC', label_offset='40', offset={'scale': OrdinalScale(), 'value': 10}, scale=Ordinal…"
      ]
     },
     "metadata": {},
     "output_type": "display_data"
    }
   ],
   "source": [
    "# Initial values\n",
    "dates = df_ts.index.values\n",
    "start_date = dates[0]\n",
    "end_date = dates[-1]\n",
    "\n",
    "# Widget start date\n",
    "end_widget = widgets.Dropdown(\n",
    "    options=dates,\n",
    "    value = end_date,\n",
    "    description='End date:')\n",
    "display(end_widget)\n",
    "\n",
    "# Widget for end date\n",
    "start_widget = widgets.Dropdown(\n",
    "    options=dates,\n",
    "    value = start_date,\n",
    "    description='Start date:')\n",
    "display(start_widget)\n",
    "\n",
    "# Plot with initial values\n",
    "plot(end_date, start_date)\n",
    "\n",
    "# Change handler for end_date\n",
    "def on_change_end(change):\n",
    "    if change['name'] == 'value' and (change['new'] != change['old']):\n",
    "        end_date = change['new']\n",
    "        # Refresh widgets and resulting plot\n",
    "        clear_output()\n",
    "        display(end_widget)\n",
    "        display(start_widget)\n",
    "        plot(end_date, start_date)\n",
    "\n",
    "# Change handler for end_date\n",
    "def on_change_start(change):\n",
    "    if change['name'] == 'value' and (change['new'] != change['old']):\n",
    "        start_date = change['new']\n",
    "        # Refresh widgets and resulting plot\n",
    "        clear_output()\n",
    "        display(end_widget)\n",
    "        display(start_widget)\n",
    "        plot(end_date, start_date)\n",
    "\n",
    "# Capture changed values in dropdowns\n",
    "end_widget.observe(on_change_end)\n",
    "start_widget.observe(on_change_start)"
   ]
  },
  {
   "cell_type": "code",
   "execution_count": null,
   "metadata": {},
   "outputs": [],
   "source": []
  }
 ],
 "metadata": {
  "kernelspec": {
   "display_name": "Python 3",
   "language": "python",
   "name": "python3"
  },
  "language_info": {
   "codemirror_mode": {
    "name": "ipython",
    "version": 3
   },
   "file_extension": ".py",
   "mimetype": "text/x-python",
   "name": "python",
   "nbconvert_exporter": "python",
   "pygments_lexer": "ipython3",
   "version": "3.7.4"
  }
 },
 "nbformat": 4,
 "nbformat_minor": 2
}
